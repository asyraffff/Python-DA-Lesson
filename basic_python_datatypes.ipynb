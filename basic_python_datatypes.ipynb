{
 "cells": [
  {
   "cell_type": "markdown",
   "metadata": {},
   "source": [
    "# Variable Assignments"
   ]
  },
  {
   "cell_type": "code",
   "execution_count": 2,
   "metadata": {},
   "outputs": [
    {
     "data": {
      "text/plain": [
       "5"
      ]
     },
     "execution_count": 2,
     "metadata": {},
     "output_type": "execute_result"
    }
   ],
   "source": [
    "x = 5 #this is an integer value \n",
    "x"
   ]
  },
  {
   "cell_type": "markdown",
   "metadata": {},
   "source": [
    "Basic Markdown Syntax\n",
    "\n",
    "# Heading 1\n",
    "## Heading 2\n",
    "### Heading 3\n",
    "\n",
    "Regular text\n",
    "**Bold text**\n",
    "*Italic text*\n",
    "\n",
    "Bullet points\n",
    "* point 1\n",
    "* point 2\n",
    "\n",
    "Numbered points\n",
    "1. point 1\n",
    "2. point 2"
   ]
  },
  {
   "cell_type": "markdown",
   "metadata": {},
   "source": [
    "# Data Types and Structures"
   ]
  },
  {
   "cell_type": "markdown",
   "metadata": {},
   "source": [
    "### Primitive"
   ]
  },
  {
   "cell_type": "code",
   "execution_count": 1,
   "metadata": {},
   "outputs": [
    {
     "data": {
      "text/plain": [
       "int"
      ]
     },
     "execution_count": 1,
     "metadata": {},
     "output_type": "execute_result"
    }
   ],
   "source": [
    "# Integers\n",
    "y = 45\n",
    "type(y)"
   ]
  },
  {
   "cell_type": "code",
   "execution_count": 2,
   "metadata": {},
   "outputs": [
    {
     "data": {
      "text/plain": [
       "float"
      ]
     },
     "execution_count": 2,
     "metadata": {},
     "output_type": "execute_result"
    }
   ],
   "source": [
    "# Floats\n",
    "x = 45.5\n",
    "type(x)"
   ]
  },
  {
   "cell_type": "code",
   "execution_count": 5,
   "metadata": {},
   "outputs": [
    {
     "name": "stdout",
     "output_type": "stream",
     "text": [
      "I'm learning Python rn!!\n",
      "5\n",
      "'5'\n",
      "This is \n",
      "        a multi-line string\n",
      "I want to print this \" in my string\n",
      "This is how you create a \n",
      " new \n",
      " line \n",
      " string\n"
     ]
    }
   ],
   "source": [
    "# Strings\n",
    "z = \"I'm learning Python rn!!\"\n",
    "a = \"5\" # 5 as a string\n",
    "a = '5' # single quotation to create a string\n",
    "\n",
    "a_two = \"'5'\" # to make the single quotation part of a string\n",
    "\n",
    "b = \"\"\"This is \n",
    "        a multi-line string\"\"\" # triple quote for a multi-line string\n",
    "        \n",
    "c = \"I want to print this \\\" in my string\" # \\ is an escaping character\n",
    "\n",
    "d = \"This is how you create a \\n new \\n line \\n string\"\n",
    "\n",
    "print(z)\n",
    "print(a)\n",
    "print(a_two)\n",
    "print(b)\n",
    "print(c)\n",
    "print(d)"
   ]
  },
  {
   "cell_type": "code",
   "execution_count": 7,
   "metadata": {},
   "outputs": [
    {
     "data": {
      "text/plain": [
       "' moth'"
      ]
     },
     "execution_count": 7,
     "metadata": {},
     "output_type": "execute_result"
    }
   ],
   "source": [
    "# Slicing\n",
    "\n",
    "sampleText = \"You motherfucker damm shit\"\n",
    "sampleText[2]\n",
    "sampleText[3:8]"
   ]
  },
  {
   "cell_type": "code",
   "execution_count": 9,
   "metadata": {},
   "outputs": [
    {
     "data": {
      "text/plain": [
       "False"
      ]
     },
     "execution_count": 9,
     "metadata": {},
     "output_type": "execute_result"
    }
   ],
   "source": [
    "# Boolean\n",
    "boolean = True # this is a boolean\n",
    "not_boolean = \"True\" # this is not a boolean\n",
    "\n",
    "x = 1\n",
    "y = \"1\"\n",
    "x == y\n",
    "\n"
   ]
  },
  {
   "cell_type": "markdown",
   "metadata": {},
   "source": [
    "### Non-Primitive"
   ]
  },
  {
   "cell_type": "code",
   "execution_count": 19,
   "metadata": {},
   "outputs": [
    {
     "data": {
      "text/plain": [
       "['Fuck', 9, 8, 7, 6, 5, 4, 3, 2, 1]"
      ]
     },
     "execution_count": 19,
     "metadata": {},
     "output_type": "execute_result"
    }
   ],
   "source": [
    "# List/Array\n",
    "first_list = [1, 2, 3, 4, 5, 6, 7, 8, 9, \"Fuck\"]\n",
    "first_list[4:-1]\n",
    "first_list[::3] # skip 3 value\n",
    "first_list[:5] # slice/print only 5 value\n",
    "first_list[::-1] # reversed the list"
   ]
  },
  {
   "cell_type": "code",
   "execution_count": 22,
   "metadata": {},
   "outputs": [
    {
     "data": {
      "text/plain": [
       "('YOU', 5, 4, 3, 2, 1)"
      ]
     },
     "execution_count": 22,
     "metadata": {},
     "output_type": "execute_result"
    }
   ],
   "source": [
    "# Tuple\n",
    "# same as List, but the elements cannot be changed\n",
    "\n",
    "a_tuple = (1, 2, 3, 4, 5, \"YOU\")\n",
    "a_tuple[:3]\n",
    "a_tuple[::-1]"
   ]
  },
  {
   "cell_type": "code",
   "execution_count": 25,
   "metadata": {},
   "outputs": [
    {
     "data": {
      "text/plain": [
       "['more', 'than', 'one', 'value', 'per', 'key']"
      ]
     },
     "execution_count": 25,
     "metadata": {},
     "output_type": "execute_result"
    }
   ],
   "source": [
    "# Dictionary\n",
    "# key-value pairs\n",
    "\n",
    "a_dictionary = {\"key\":\"value\", \"multiple_values\":[\"more\", \"than\", \"one\", \"value\", \"per\", \"key\"]}\n",
    "a_dictionary.get(\"multiple_values\") # get the keys with a certain values\n",
    "a_dictionary[\"multiple_values\"] # another way"
   ]
  },
  {
   "cell_type": "code",
   "execution_count": null,
   "metadata": {},
   "outputs": [],
   "source": [
    "# Set\n",
    "# unordered, unchangeable way to store multiple variables without duplicates\n",
    "\n",
    "a_set = {\"Value\", \"second\", \"third\"}"
   ]
  }
 ],
 "metadata": {
  "kernelspec": {
   "display_name": "Python 3.8.5 64-bit ('3.8.5')",
   "language": "python",
   "name": "python3"
  },
  "language_info": {
   "codemirror_mode": {
    "name": "ipython",
    "version": 3
   },
   "file_extension": ".py",
   "mimetype": "text/x-python",
   "name": "python",
   "nbconvert_exporter": "python",
   "pygments_lexer": "ipython3",
   "version": "3.8.5"
  },
  "orig_nbformat": 4,
  "vscode": {
   "interpreter": {
    "hash": "9bb1591fe59eb711a25d5d35e6f54478308d250d2354f39c87c732a03d380bc8"
   }
  }
 },
 "nbformat": 4,
 "nbformat_minor": 2
}
