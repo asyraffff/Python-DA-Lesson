{
 "cells": [
  {
   "cell_type": "markdown",
   "metadata": {},
   "source": [
    "# Variable Assignments"
   ]
  },
  {
   "cell_type": "code",
   "execution_count": 2,
   "metadata": {},
   "outputs": [
    {
     "data": {
      "text/plain": [
       "5"
      ]
     },
     "execution_count": 2,
     "metadata": {},
     "output_type": "execute_result"
    }
   ],
   "source": [
    "x = 5 #this is an integer value \n",
    "x"
   ]
  },
  {
   "cell_type": "markdown",
   "metadata": {},
   "source": [
    "Basic Markdown Syntax\n",
    "\n",
    "# Heading 1\n",
    "## Heading 2\n",
    "### Heading 3\n",
    "\n",
    "Regular text\n",
    "**Bold text**\n",
    "*Italic text*\n",
    "\n",
    "Bullet points\n",
    "* point 1\n",
    "* point 2\n",
    "\n",
    "Numbered points\n",
    "1. point 1\n",
    "2. point 2"
   ]
  },
  {
   "cell_type": "markdown",
   "metadata": {},
   "source": [
    "# Data Types and Structures"
   ]
  },
  {
   "cell_type": "markdown",
   "metadata": {},
   "source": [
    "### Primitive"
   ]
  },
  {
   "cell_type": "code",
   "execution_count": 1,
   "metadata": {},
   "outputs": [
    {
     "data": {
      "text/plain": [
       "int"
      ]
     },
     "execution_count": 1,
     "metadata": {},
     "output_type": "execute_result"
    }
   ],
   "source": [
    "# Integers\n",
    "y = 45\n",
    "type(y)"
   ]
  },
  {
   "cell_type": "code",
   "execution_count": 2,
   "metadata": {},
   "outputs": [
    {
     "data": {
      "text/plain": [
       "float"
      ]
     },
     "execution_count": 2,
     "metadata": {},
     "output_type": "execute_result"
    }
   ],
   "source": [
    "# Floats\n",
    "x = 45.5\n",
    "type(x)"
   ]
  },
  {
   "cell_type": "code",
   "execution_count": 5,
   "metadata": {},
   "outputs": [
    {
     "name": "stdout",
     "output_type": "stream",
     "text": [
      "I'm learning Python rn!!\n",
      "5\n",
      "'5'\n",
      "This is \n",
      "        a multi-line string\n",
      "I want to print this \" in my string\n",
      "This is how you create a \n",
      " new \n",
      " line \n",
      " string\n"
     ]
    }
   ],
   "source": [
    "# Strings\n",
    "z = \"I'm learning Python rn!!\"\n",
    "a = \"5\" # 5 as a string\n",
    "a = '5' # single quotation to create a string\n",
    "\n",
    "a_two = \"'5'\" # to make the single quotation part of a string\n",
    "\n",
    "b = \"\"\"This is \n",
    "        a multi-line string\"\"\" # triple quote for a multi-line string\n",
    "        \n",
    "c = \"I want to print this \\\" in my string\" # \\ is an escaping character\n",
    "\n",
    "d = \"This is how you create a \\n new \\n line \\n string\"\n",
    "\n",
    "print(z)\n",
    "print(a)\n",
    "print(a_two)\n",
    "print(b)\n",
    "print(c)\n",
    "print(d)"
   ]
  },
  {
   "cell_type": "code",
   "execution_count": 7,
   "metadata": {},
   "outputs": [
    {
     "data": {
      "text/plain": [
       "' moth'"
      ]
     },
     "execution_count": 7,
     "metadata": {},
     "output_type": "execute_result"
    }
   ],
   "source": [
    "# Slicing\n",
    "\n",
    "sampleText = \"You motherfucker damm shit\"\n",
    "sampleText[2]\n",
    "sampleText[3:8]"
   ]
  },
  {
   "cell_type": "code",
   "execution_count": 9,
   "metadata": {},
   "outputs": [
    {
     "data": {
      "text/plain": [
       "False"
      ]
     },
     "execution_count": 9,
     "metadata": {},
     "output_type": "execute_result"
    }
   ],
   "source": [
    "# Boolean\n",
    "boolean = True # this is a boolean\n",
    "not_boolean = \"True\" # this is not a boolean\n",
    "\n",
    "x = 1\n",
    "y = \"1\"\n",
    "x == y\n",
    "\n"
   ]
  },
  {
   "cell_type": "markdown",
   "metadata": {},
   "source": [
    "### Non-Primitive"
   ]
  },
  {
   "cell_type": "code",
   "execution_count": 19,
   "metadata": {},
   "outputs": [
    {
     "data": {
      "text/plain": [
       "['Fuck', 9, 8, 7, 6, 5, 4, 3, 2, 1]"
      ]
     },
     "execution_count": 19,
     "metadata": {},
     "output_type": "execute_result"
    }
   ],
   "source": [
    "# List/Array\n",
    "first_list = [1, 2, 3, 4, 5, 6, 7, 8, 9, \"Fuck\"]\n",
    "first_list[4:-1]\n",
    "first_list[::3] # skip 3 value\n",
    "first_list[:5] # slice/print only 5 value\n",
    "first_list[::-1] # reversed the list"
   ]
  },
  {
   "cell_type": "code",
   "execution_count": 22,
   "metadata": {},
   "outputs": [
    {
     "data": {
      "text/plain": [
       "('YOU', 5, 4, 3, 2, 1)"
      ]
     },
     "execution_count": 22,
     "metadata": {},
     "output_type": "execute_result"
    }
   ],
   "source": [
    "# Tuple\n",
    "# same as List, but the elements cannot be changed\n",
    "\n",
    "a_tuple = (1, 2, 3, 4, 5, \"YOU\")\n",
    "a_tuple[:3]\n",
    "a_tuple[::-1]"
   ]
  },
  {
   "cell_type": "code",
   "execution_count": 25,
   "metadata": {},
   "outputs": [
    {
     "data": {
      "text/plain": [
       "['more', 'than', 'one', 'value', 'per', 'key']"
      ]
     },
     "execution_count": 25,
     "metadata": {},
     "output_type": "execute_result"
    }
   ],
   "source": [
    "# Dictionary\n",
    "# key-value pairs\n",
    "\n",
    "a_dictionary = {\"key\":\"value\", \"multiple_values\":[\"more\", \"than\", \"one\", \"value\", \"per\", \"key\"]}\n",
    "a_dictionary.get(\"multiple_values\") # get the keys with a certain values\n",
    "a_dictionary[\"multiple_values\"] # another way"
   ]
  },
  {
   "cell_type": "code",
   "execution_count": null,
   "metadata": {},
   "outputs": [],
   "source": [
    "# Set\n",
    "# unordered, unchangeable way to store multiple variables without duplicates\n",
    "\n",
    "a_set = {\"Value\", \"second\", \"third\"}"
   ]
  },
  {
   "cell_type": "markdown",
   "metadata": {},
   "source": [
    "# Operations"
   ]
  },
  {
   "cell_type": "markdown",
   "metadata": {},
   "source": [
    "### Arithmetic Operators"
   ]
  },
  {
   "cell_type": "code",
   "execution_count": 38,
   "metadata": {},
   "outputs": [
    {
     "name": "stdout",
     "output_type": "stream",
     "text": [
      "3000\n",
      "add this strings\n",
      "['first', 'list', 'this', 'is', 'a', 'second', 'list']\n",
      "214\n",
      "28\n",
      "damm damm damm damm \n",
      "['shit', 'shit']\n",
      "285.7142857142857\n",
      "2\n",
      "3\n"
     ]
    }
   ],
   "source": [
    "add = 2000 + 1000\n",
    "add_str = \"add\" + \" this\" + \" strings\"\n",
    "add_list = [\"first\", \"list\"] + [\"this\", \"is\", \"a\", \"second\", \"list\"]\n",
    "\n",
    "sub = 1000 - 376 - 200 - 210\n",
    "\n",
    "mult = 7 * 4\n",
    "mult_str = \"damm \" * 4\n",
    "mult_list = [\"shit\"] * 2\n",
    "\n",
    "div = 2000 / 7\n",
    "\n",
    "modulo = 20 % 3\n",
    "\n",
    "floor_division = 7 // 2 # Gives you the largest multiple, in this case it's 3 \n",
    "\n",
    "print(add)\n",
    "print(add_str)\n",
    "print(add_list)\n",
    "print(sub)\n",
    "print(mult)\n",
    "print(mult_str)\n",
    "print(mult_list)\n",
    "print(div)\n",
    "print(modulo)\n",
    "print(floor_division)"
   ]
  },
  {
   "cell_type": "markdown",
   "metadata": {},
   "source": [
    "### Membership Operations"
   ]
  },
  {
   "cell_type": "code",
   "execution_count": 40,
   "metadata": {},
   "outputs": [
    {
     "data": {
      "text/plain": [
       "True"
      ]
     },
     "execution_count": 40,
     "metadata": {},
     "output_type": "execute_result"
    }
   ],
   "source": [
    "\"T\" in \"Transformer\"\n",
    "\"3\" not in [\"Itali\", 5, \"Speaker\"]"
   ]
  },
  {
   "cell_type": "markdown",
   "metadata": {},
   "source": [
    "# Functions"
   ]
  },
  {
   "cell_type": "code",
   "execution_count": 43,
   "metadata": {},
   "outputs": [
    {
     "data": {
      "text/plain": [
       "6"
      ]
     },
     "execution_count": 43,
     "metadata": {},
     "output_type": "execute_result"
    }
   ],
   "source": [
    "def add(x, y, z):\n",
    "    return x + y + z;\n",
    "\n",
    "add(1, 2, 3)\n",
    "# add(x = 2, 4, 5) # error"
   ]
  },
  {
   "cell_type": "markdown",
   "metadata": {},
   "source": [
    "# Control Statements"
   ]
  },
  {
   "cell_type": "code",
   "execution_count": 44,
   "metadata": {},
   "outputs": [
    {
     "name": "stdout",
     "output_type": "stream",
     "text": [
      "3\n",
      "6\n",
      "9\n",
      "12\n",
      "15\n"
     ]
    }
   ],
   "source": [
    "# For Loops\n",
    "\n",
    "the_list = range(1, 6)\n",
    "\n",
    "for i in the_list:\n",
    "    i *= 3\n",
    "    print(i)"
   ]
  },
  {
   "cell_type": "code",
   "execution_count": 45,
   "metadata": {},
   "outputs": [
    {
     "name": "stdout",
     "output_type": "stream",
     "text": [
      "1\n",
      "2\n",
      "3\n",
      "4\n",
      "5\n"
     ]
    }
   ],
   "source": [
    "# While Loops\n",
    "\n",
    "x = 0\n",
    "\n",
    "while x < 5:\n",
    "    x += 1\n",
    "    print(x)"
   ]
  },
  {
   "cell_type": "code",
   "execution_count": 49,
   "metadata": {},
   "outputs": [
    {
     "name": "stdout",
     "output_type": "stream",
     "text": [
      "fizzbuzz\n",
      "0\n",
      "1\n",
      "2\n",
      "fizz\n",
      "3\n",
      "4\n",
      "buzz\n",
      "fizz\n",
      "6\n",
      "7\n",
      "8\n",
      "fizz\n",
      "9\n",
      "buzz\n",
      "11\n",
      "fizz\n",
      "12\n",
      "13\n",
      "14\n",
      "fizzbuzz\n",
      "15\n",
      "16\n",
      "17\n",
      "fizz\n",
      "18\n",
      "19\n",
      "buzz\n",
      "fizz\n",
      "21\n",
      "22\n",
      "23\n",
      "fizz\n",
      "24\n",
      "buzz\n",
      "26\n",
      "fizz\n",
      "27\n",
      "28\n",
      "29\n",
      "fizzbuzz\n",
      "30\n",
      "31\n",
      "32\n",
      "fizz\n",
      "33\n",
      "34\n",
      "buzz\n",
      "fizz\n",
      "36\n",
      "37\n",
      "38\n",
      "fizz\n",
      "39\n",
      "buzz\n",
      "41\n",
      "fizz\n",
      "42\n",
      "43\n",
      "44\n",
      "fizzbuzz\n",
      "45\n",
      "46\n",
      "47\n",
      "fizz\n",
      "48\n",
      "49\n",
      "buzz\n"
     ]
    }
   ],
   "source": [
    "# If-Then\n",
    "\n",
    "for fizzbuzz in range(51):\n",
    "    if fizzbuzz % 3 == 0 and fizzbuzz % 5 == 0:\n",
    "        print(\"fizzbuzz\")\n",
    "    elif fizzbuzz % 3 == 0:\n",
    "        print(\"fizz\")\n",
    "    elif fizzbuzz % 5 == 0:\n",
    "        print(\"buzz\")\n",
    "        continue\n",
    "    print(fizzbuzz)"
   ]
  },
  {
   "cell_type": "code",
   "execution_count": 50,
   "metadata": {},
   "outputs": [
    {
     "name": "stdout",
     "output_type": "stream",
     "text": [
      "Can't divide by zero\n"
     ]
    }
   ],
   "source": [
    "# Try-Except\n",
    "\n",
    "try:\n",
    "    2 / 0\n",
    "except ZeroDivisionError:\n",
    "    print(\"Can't divide by zero\")"
   ]
  },
  {
   "cell_type": "code",
   "execution_count": null,
   "metadata": {},
   "outputs": [],
   "source": []
  }
 ],
 "metadata": {
  "kernelspec": {
   "display_name": "Python 3.8.5 64-bit ('3.8.5')",
   "language": "python",
   "name": "python3"
  },
  "language_info": {
   "codemirror_mode": {
    "name": "ipython",
    "version": 3
   },
   "file_extension": ".py",
   "mimetype": "text/x-python",
   "name": "python",
   "nbconvert_exporter": "python",
   "pygments_lexer": "ipython3",
   "version": "3.8.5"
  },
  "orig_nbformat": 4,
  "vscode": {
   "interpreter": {
    "hash": "9bb1591fe59eb711a25d5d35e6f54478308d250d2354f39c87c732a03d380bc8"
   }
  }
 },
 "nbformat": 4,
 "nbformat_minor": 2
}
